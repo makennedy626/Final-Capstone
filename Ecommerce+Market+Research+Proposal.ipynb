{
 "cells": [
  {
   "cell_type": "markdown",
   "metadata": {},
   "source": [
    "### Explain how you will validate your model. \n",
    "    #### Maybe test accuracy in predicting how accurate it is in pinpointing products that will grow over the next six months.\n",
    "\n",
    "\n",
    "#### What is the problem you are attempting to solve?\n",
    "Gaining insight into which product lines are in high demand with low competition, beginning with a broad focus on technology appliances and narrowing down to a final product line.\n",
    "\n",
    "#### How is your solution valuable?\n",
    "I will use the insights drawn from this solution to facilitate data-driven decisions for my temporal and monetary investments into building ecommerce businesses.\n",
    "\n",
    "Talk about being able to pitch it to companies. Create a model to generate sales leads / potential customers. \n",
    "\n",
    "Being able to predict the rise in popularity of certain products will allow companies to be the first to begin selling that product. \n",
    "\n",
    "Try to identify the reasons that certain products are increasing in popularity - maybe a new version comes out or there is a drop in price of certain components, etc. \n",
    "\n",
    "#### What is your data source and how will you access it?\n",
    "The data will be collected from multiple APIs in addition to scraping articles from Google News. The APIs that will be used will come from Twitter (https://developer.twitter.com/en/docs/basics/getting-started), Instagram (https://www.instagram.com/developer/endpoints/tags/), Google Trends (https://developers.google.com/gdata/docs/directory), and Google News (https://newsapi.org/s/google-news-api).\n",
    "\n",
    "Add Facebook api, maybe get rid of instagram api. \n",
    "\n",
    "\n",
    "\n",
    "#### What techniques from the course do you anticipate using?\n",
    "\n",
    "\n",
    "### Talk about seasonality. Maybe use some stuff from the Time Series section on Thinkful. \n",
    "\n",
    "### Explain how you will start broad with Google Trends / Analytics then narrow down to a smaller list of items to crawl social media for. \n",
    "\n",
    "The first technique will be scraping APIs and Google News articles to collect the necessary data. This will begin with an analysis of Google Trends data for the most-searched-for products in the category of technology appliances. Once a selection of keywords are searched, social media will be scraped to find the products with the highest interest. \n",
    "\n",
    "Next, Unsupervised Neural Networks will be utilized to perform Natural Language Processing to extract consumer sentiment of various products.\n",
    "\n",
    "Last, Neural Networks will be used to generate a score that depicts the selling potential of various products.\n",
    "\n",
    "#### What do you anticipate will be the biggest challenge you'll face?\n",
    "Narrowing the scope of searches so that it is not too computationally intense. This can be mitigated by using Google Trends and Google News to refine the list of products to scrape social media for.\n",
    "\n",
    "Competition - This will require some research into how saturated the market is for a given product.\n",
    "\n",
    "Seasonality\n",
    "\n",
    "Tying public interest into number of purchases\n"
   ]
  }
 ],
 "metadata": {
  "kernelspec": {
   "display_name": "Python 3",
   "language": "python",
   "name": "python3"
  },
  "language_info": {
   "codemirror_mode": {
    "name": "ipython",
    "version": 3
   },
   "file_extension": ".py",
   "mimetype": "text/x-python",
   "name": "python",
   "nbconvert_exporter": "python",
   "pygments_lexer": "ipython3",
   "version": "3.6.3"
  }
 },
 "nbformat": 4,
 "nbformat_minor": 2
}
