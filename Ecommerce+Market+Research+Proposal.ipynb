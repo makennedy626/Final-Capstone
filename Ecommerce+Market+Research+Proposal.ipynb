{
 "cells": [
  {
   "cell_type": "markdown",
   "metadata": {},
   "source": [
    "# From Alex N\n",
    "\n",
    "## Firstly I think you really need to define what you mean by product niche and how you will get information on it. The more you really nail down how you're going to use this since it's such a central crux of your work, the better off you'll be. Social media is a great part of that but it may limit your view somewhat. Also how you do this thoroughly is a challenge. \n",
    "\n",
    "## On the topic of data, if you subsample too much here you're leaving a lot of information unused, but to use all of the data is a lot of scraping particularly in such a broad domain.\n",
    "\n",
    "## What is generally missing here is some real specificity on what you're going to be looking at and exactly how these sources link together. At the moment I could interpret this proposal several different ways, some very simple and some almost impossibly complicated. I really need to know more about exactly what you're doing.\n",
    "\n",
    "\n",
    "#### What is the problem you are attempting to solve?\n",
    "\n",
    "## What companies will benefit from this? Need to narrow down the niche from the beginning rather than over the course of the project.\n",
    "\n",
    "One of the barriers to entry in ecommerce is finding a target niche. The solution will aim to provide the user or company with evaluating and determining the highest potential product niche, website name, and keywords to use. \n",
    "\n",
    "#### How is your solution valuable?\n",
    "The solution will be a valuable tool for companies looking to expand their product line and to find new target audiences for advertisements. A model will generate a score that characterizes the sales potential of certain products. Part of this score will be the predicted rise in popularity of a product, so that a company may be able to jump on the opportunity and be the first to begin advertising and selling the product. The solution will also attempt to identify why the product will gain popularity - e.g. Is it a new version of a high-demand product? Is it some new fad that children will be begging their parents to buy them? \n",
    "\n",
    "#### What is your data source and how will you access it?\n",
    "The data will be collected from multiple APIs in addition to scraping articles from Google News. The APIs that will be used will come from Twitter (https://developer.twitter.com/en/docs/basics/getting-started), Facebook (http://graph.facebook.com/XYZ, where XYZ is the competitor's name), Google Trends (https://developers.google.com/gdata/docs/directory), and Google News (https://newsapi.org/s/google-news-api).\n",
    "\n",
    "#### What techniques from the course do you anticipate using?\n",
    "\n",
    "## Go into further detail on the execution \n",
    "\n",
    "## Need to narrow scope of project or it will be too big \n",
    "\n",
    "## Further discuss the niche\n",
    "\n",
    "## What niche, customers, demographic, industry, etc.\n",
    "\n",
    "## Need to explain how the sources will work together\n",
    "\n",
    "The solution will start with a broad search of keywords related to technology appliances on Google Trends. This data will be collected, and techniques from the Time Series section of Thinkful will be used to model the seasonality of items. \n",
    "\n",
    "Using this information, the keywords list will be narrowed down and will be used to scrape social media to find the products with the highest interest. This will be accomplished by utilizing Unsupervised Neural Networks to perform Natural Language Processing to determine consumer sentiment of the various products. \n",
    "\n",
    "The insights drawn from the NLP technique will become additional features from which a Supervised Neural Network will create a model to predict the rise in consumer interest for a product. \n",
    "\n",
    "## What is the predicted value that we test against? What are the features you will use?\n",
    "\n",
    "The final model will be validated for accuracy by comparing the products that were classified as rising in interest to a value pulled from Google Trends that is the increase in interest in the next six months. That is, for Product A at Time T, the data for search interest will be analyzed for time T through T + 6 months. If the model classified the product as rising in interest and the data shows that the model rose by a certain threshold percent (to be determined once the data has been collected), then the model was accurate in classifying that product at time T. \n",
    "\n",
    "#### What do you anticipate will be the biggest challenge you'll face?\n",
    "Narrowing the scope of searches so that it is not too computationally intense. This can be mitigated by using Google Trends and Google News to refine the list of products to scrape social media for.\n",
    "\n",
    "Competition - This will require some research into how saturated the market is for a given product. Facebook will be a useful tool to collect information on competitors in the same market, including how many fans they have, how engaged people are with their product, and what products are liked or disliked the most.\n",
    "\n",
    "Seasonality - Since seasonality can have a large impact on the interest in season-specific items (e.g. swimsuits in Spring / Summer, jackets in Fall / Winter), the seasonality of certain products will be taken into consideration."
   ]
  }
 ],
 "metadata": {
  "kernelspec": {
   "display_name": "Python 3",
   "language": "python",
   "name": "python3"
  },
  "language_info": {
   "codemirror_mode": {
    "name": "ipython",
    "version": 3
   },
   "file_extension": ".py",
   "mimetype": "text/x-python",
   "name": "python",
   "nbconvert_exporter": "python",
   "pygments_lexer": "ipython3",
   "version": "3.6.3"
  }
 },
 "nbformat": 4,
 "nbformat_minor": 2
}
