{
 "cells": [
  {
   "cell_type": "markdown",
   "metadata": {},
   "source": [
    "*** Provide links to different sources of data etc.\n",
    "\n",
    "\n",
    "#### What is the problem you are attempting to solve? \n",
    "   To provide an analysis of the different implementations and combinations of machine learning algorithms to make buys and sells of various stocks in a portfolio.\n",
    "    \n",
    "#### How is your solution valuable?\n",
    "   The end goal is to have a solution that will generate positive gains over time in the stock market while meeting Quantopian's Contest Criteria: https://www.quantopian.com/open\n",
    "   \n",
    "   Being able to provide predictive analytics on stock market movers (blah blah)\n",
    "    \n",
    "#### What is your data source and how will you access it?\n",
    "   1) Quantopian's Python environment provides access to US equities priced at a minute level and point-in-time corporate fundamentals. Additionally, custom time-series data (such as Quandl) can be imported onto the platform. \n",
    "   *** talk about different data sets and if / how to create and utilize your own data\n",
    "   \n",
    "   2) If Quantopian is not an approved environment / data source, Yahoo finance will be used to collect data on a multitude of stocks. \n",
    "   *** talk about crawling the Yahoo finance api, etc.\n",
    "    \n",
    "#### What techniques from the course do you anticipate using?\n",
    "\n",
    "*** Write this as a sequence. Scraping will come first, etc. What do you expect to end up with? How will everything come together to make a single prediction?\n",
    "\n",
    "   Supervised ML: Leverage different Supervised ML techniques to train and predict stock market movers.\n",
    "   \n",
    "   Scraping: Utilizing Scrapy to crawl news articles about stocks from Google news api.\n",
    "   \n",
    "   Unsupervised ML: Natural Language Processing of news articles from Google news api to get public / professional sentiment of stocks. Clustering analysis of stocks to determine clusters of gains and losses.\n",
    "   *** Explain how you would do this\n",
    "   \n",
    "   Neural Networks: Neural Networks will be used both for sentiment analysis of the news articles as well as implementations of regression models for stock market predictions.\n",
    "    \n",
    "#### What do you anticipate will be the biggest challenge you'll face?\n",
    "   Analyzing historical news articles for sentiment analysis. It will be a very large amount of data to process. If this does not work, the sentiment analysis can be utilized on current to future news articles to improve the model over time. *** Discuss how to overcome this challenge - i.e. reduce number of features, etc.\n",
    "   \n",
    "   Adhering to the Quantopian Contest Criteria - Beta-SPY, Sharpe Ratio, Annualized Volatility, Annualized Returns, Max Drawdown, Stability of Return, Sortino Ratio. *** Add a link to the explanation of criteria. Explain what the criteria are some more. Explain why it will be a challenge to meet the criteria."
   ]
  }
 ],
 "metadata": {
  "kernelspec": {
   "display_name": "Python 3",
   "language": "python",
   "name": "python3"
  },
  "language_info": {
   "codemirror_mode": {
    "name": "ipython",
    "version": 3
   },
   "file_extension": ".py",
   "mimetype": "text/x-python",
   "name": "python",
   "nbconvert_exporter": "python",
   "pygments_lexer": "ipython3",
   "version": "3.6.3"
  }
 },
 "nbformat": 4,
 "nbformat_minor": 2
}
